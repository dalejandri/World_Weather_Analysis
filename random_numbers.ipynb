{
 "cells": [
  {
   "cell_type": "code",
   "execution_count": 18,
   "id": "744e3a7e",
   "metadata": {},
   "outputs": [],
   "source": [
    "# Import the NumPy module.\n",
    "import numpy as np\n",
    "\n",
    "#import random\n",
    "#The NumPy module has a built-in random module, and supplements the built-in Python random module. \n",
    "#There is no need to import the random module if we import the NumPy module, as it's redundant.\n",
    "\n",
    "# Import timeit.\n",
    "import timeit\n",
    "\n",
    "#To test how long a piece of code or function takes to run, we can import the \"timeit\" module \n",
    "# and use the %timeit magic command when we run our code or call the function."
   ]
  },
  {
   "cell_type": "code",
   "execution_count": 5,
   "id": "aa1761b3",
   "metadata": {},
   "outputs": [
    {
     "data": {
      "text/plain": [
       "49"
      ]
     },
     "execution_count": 5,
     "metadata": {},
     "output_type": "execute_result"
    }
   ],
   "source": [
    "random.randint(-90, 90)"
   ]
  },
  {
   "cell_type": "code",
   "execution_count": 6,
   "id": "77bcf1f4",
   "metadata": {},
   "outputs": [
    {
     "data": {
      "text/plain": [
       "0.9047945862903477"
      ]
     },
     "execution_count": 6,
     "metadata": {},
     "output_type": "execute_result"
    }
   ],
   "source": [
    "random.random()"
   ]
  },
  {
   "cell_type": "code",
   "execution_count": 7,
   "id": "ba8cc346",
   "metadata": {},
   "outputs": [],
   "source": [
    "#This looks promising, but the code to generate the latitudes above is a little long.\n",
    "x = 1\n",
    "latitudes = []\n",
    "while x < 11:\n",
    "    random_lat = random.randint(-90, 89) + random.random()\n",
    "    latitudes.append(random_lat)\n",
    "    x += 1"
   ]
  },
  {
   "cell_type": "code",
   "execution_count": 8,
   "id": "a35988cd",
   "metadata": {},
   "outputs": [
    {
     "data": {
      "text/plain": [
       "[-45.332463114157086,\n",
       " -45.5169434430154,\n",
       " 2.2215083249597174,\n",
       " -2.2217995658095258,\n",
       " 40.8083219815111,\n",
       " -51.16630299365637,\n",
       " 74.60271353483265,\n",
       " -70.64195450491789,\n",
       " -10.314511620948881,\n",
       " 11.8121512090803]"
      ]
     },
     "execution_count": 8,
     "metadata": {},
     "output_type": "execute_result"
    }
   ],
   "source": [
    "latitudes"
   ]
  },
  {
   "cell_type": "code",
   "execution_count": 9,
   "id": "059dab5f",
   "metadata": {},
   "outputs": [
    {
     "data": {
      "text/plain": [
       "-42"
      ]
     },
     "execution_count": 9,
     "metadata": {},
     "output_type": "execute_result"
    }
   ],
   "source": [
    "random.randrange(-90, 90, step=3)"
   ]
  },
  {
   "cell_type": "code",
   "execution_count": 10,
   "id": "a1660470",
   "metadata": {},
   "outputs": [
    {
     "data": {
      "text/plain": [
       "60.71801189999911"
      ]
     },
     "execution_count": 10,
     "metadata": {},
     "output_type": "execute_result"
    }
   ],
   "source": [
    "random.uniform(-90, 90)"
   ]
  },
  {
   "cell_type": "code",
   "execution_count": 12,
   "id": "010a2a7f",
   "metadata": {},
   "outputs": [],
   "source": [
    "#To help us generate the 1500 latitudes and longitudes, we can combine the NumPy module with one of the random module functions.\n"
   ]
  },
  {
   "cell_type": "code",
   "execution_count": 16,
   "id": "9d1041ef",
   "metadata": {},
   "outputs": [
    {
     "data": {
      "text/plain": [
       "28.521927276475267"
      ]
     },
     "execution_count": 16,
     "metadata": {},
     "output_type": "execute_result"
    }
   ],
   "source": [
    "np.random.uniform(-90.000, 90.000)\n",
    "#Another option is to write the parameters as np.random.uniform(low=-90, high=90)."
   ]
  },
  {
   "cell_type": "code",
   "execution_count": 17,
   "id": "7ce47187",
   "metadata": {},
   "outputs": [
    {
     "data": {
      "text/plain": [
       "array([ 63.94638668,  25.40380679, -67.29120772,  15.02247692,\n",
       "        10.49428488, -54.15214987,  33.64099385,  45.24902374,\n",
       "        11.32409092, -53.11356259,  22.89042887, -77.23547259,\n",
       "        69.31196357, -43.77369081, -78.07087048,  82.68694287,\n",
       "        -9.11796994,  82.48163625, -62.50296705,  26.12446737,\n",
       "       -10.30627944,  45.53790724,  83.57899981, -47.06849099,\n",
       "        13.52605906,  78.96622611, -69.28106554, -61.1185486 ,\n",
       "       -12.34619308,  58.21500917, -48.34012648, -49.38757634,\n",
       "         1.97735644,  76.45653528, -86.02672136,  71.82821553,\n",
       "        27.65743351,  26.59322746,  -0.95777882, -47.74238925,\n",
       "        67.45096362,   5.68037066,  75.76792898, -68.28365742,\n",
       "       -60.44969645, -76.14169825, -84.90422914,  55.70543685,\n",
       "         2.64582283,  62.00604072])"
      ]
     },
     "execution_count": 17,
     "metadata": {},
     "output_type": "execute_result"
    }
   ],
   "source": [
    "#To generate more than one floating-point decimal number between –90 and 90, we can add the size parameter \n",
    "np.random.uniform(-90.000, 90.000, size=50)"
   ]
  },
  {
   "cell_type": "code",
   "execution_count": 20,
   "id": "5e4b261a",
   "metadata": {},
   "outputs": [
    {
     "name": "stdout",
     "output_type": "stream",
     "text": [
      "16.6 µs ± 273 ns per loop (mean ± std. dev. of 7 runs, 100000 loops each)\n"
     ]
    }
   ],
   "source": [
    "%timeit np.random.uniform(-90.000, 90.000, size=1500)"
   ]
  },
  {
   "cell_type": "code",
   "execution_count": 21,
   "id": "b02d75b1",
   "metadata": {},
   "outputs": [
    {
     "name": "stdout",
     "output_type": "stream",
     "text": [
      "1.95 ms ± 120 µs per loop (mean ± std. dev. of 7 runs, 100 loops each)\n"
     ]
    }
   ],
   "source": [
    "def latitudes(size):\n",
    "    latitudes = []\n",
    "    x = 0\n",
    "    while x < (size):\n",
    "        random_lat = random.randint(-90, 90) + random.random()\n",
    "        latitudes.append(random_lat)\n",
    "        x += 1\n",
    "    return latitudes\n",
    "# Call the function with 1500.\n",
    "%timeit latitudes(1500)"
   ]
  },
  {
   "cell_type": "code",
   "execution_count": null,
   "id": "255523c6",
   "metadata": {},
   "outputs": [],
   "source": [
    "def latitudes(size):\n",
    "    latitudes = []\n",
    "    x = 0\n",
    "    while x < (size):\n",
    "        random_lat = np.random.uniform -90, 90) + random.random()\n",
    "        latitudes.append(random_lat)\n",
    "        x += 1\n",
    "    return latitudes\n",
    "# Call the function with 1500.\n",
    "%timeit latitudes(1500)"
   ]
  }
 ],
 "metadata": {
  "kernelspec": {
   "display_name": "PythonData",
   "language": "python",
   "name": "pythondata"
  },
  "language_info": {
   "codemirror_mode": {
    "name": "ipython",
    "version": 3
   },
   "file_extension": ".py",
   "mimetype": "text/x-python",
   "name": "python",
   "nbconvert_exporter": "python",
   "pygments_lexer": "ipython3",
   "version": "3.8.8"
  }
 },
 "nbformat": 4,
 "nbformat_minor": 5
}
